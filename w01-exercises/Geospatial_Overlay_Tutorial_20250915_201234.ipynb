{
  "cells": [
    {
      "cell_type": "markdown",
      "id": "bb6841c6",
      "metadata": {
        "id": "bb6841c6"
      },
      "source": [
        "\n",
        "# Geospatial Overlay Analysis — Self‑Contained Tutorial\n",
        "\n",
        "This notebook demonstrates common **geospatial overlay** patterns with **synthetic data**, so you can run it without downloading anything:\n",
        "\n",
        "1. Vector ↔ Vector: clip, intersection, spatial join  \n",
        "2. Dissolve + area statistics  \n",
        "3. Raster ↔ Vector: zonal mean (simple implementation)\n",
        "\n",
        "> Requires: `geopandas`, `shapely`, `pyproj`, `matplotlib`, `rasterio`, `numpy`  \n",
        "> Optional: `rasterstats` (not required here)\n"
      ]
    },
    {
      "cell_type": "code",
      "execution_count": null,
      "id": "f0413280",
      "metadata": {
        "id": "f0413280"
      },
      "outputs": [],
      "source": [
        "\n",
        "# If running in a fresh environment, uncomment the next line:\n",
        "# %pip install geopandas shapely pyproj rasterio matplotlib numpy\n",
        "# We will use IL State Plate Map projection for this exercise\n",
        "# Everything is in Illinois State Plane East (EPSG:3435, feet) so areas and distances make sense (planar CRS).\n",
        "# Switch to a meters CRS (e.g., EPSG:26971) if you prefer SI units."
      ]
    },
    {
      "cell_type": "markdown",
      "source": [
        "We will Create\n",
        "- AOI: A 6,000×4,000 ft rectangle—our sandbox.\n",
        "\n",
        "- Fields: A 3×2 grid of rectangular “plots” (polygons) with field_ids.\n",
        "\n",
        "- Patches: Three translated rectangles representing “experimental plots,” each with a specific attribute.\n",
        "\n",
        "- Sensor hits: 20 random points (think soil samples). We also make 250 ft buffers around them to mimic influence zones."
      ],
      "metadata": {
        "id": "pYpisS0xBrpP"
      },
      "id": "pYpisS0xBrpP"
    },
    {
      "cell_type": "code",
      "execution_count": 1,
      "id": "fcaa358d",
      "metadata": {
        "id": "fcaa358d"
      },
      "outputs": [],
      "source": [
        "\n",
        "import numpy as np\n",
        "import geopandas as gpd\n",
        "from shapely.geometry import Point, Polygon, box\n",
        "from shapely.affinity import translate\n",
        "import matplotlib.pyplot as plt\n",
        "\n",
        "# We'll use Illinois State Plane East (feet) for this demo.\n",
        "CRS_IL_E = \"EPSG:3435\"\n"
      ]
    },
    {
      "cell_type": "markdown",
      "id": "06e9613f",
      "metadata": {
        "id": "06e9613f"
      },
      "source": [
        "## 1) Setup & Synthetic Layers"
      ]
    },
    {
      "cell_type": "code",
      "execution_count": 2,
      "id": "11c15dc1",
      "metadata": {
        "id": "11c15dc1"
      },
      "outputs": [],
      "source": [
        "\n",
        "# --- Make an AOI rectangle and a grid of 3x2 \"fields\"\n",
        "aoi = box(0, 0, 6000, 4000)  # 6k x 4k ft\n",
        "fields = []\n",
        "fid = 1\n",
        "for i in range(3):       # columns\n",
        "    for j in range(2):   # rows\n",
        "        poly = box(500 + i*1800, 500 + j*1600, 2000 + i*1800, 1800 + j*1600)\n",
        "        fields.append({\"field_id\": fid, \"geometry\": poly})\n",
        "        fid += 1\n",
        "gdf_fields = gpd.GeoDataFrame(fields, crs=CRS_IL_E)\n",
        "\n",
        "# --- Make some \"patches\" (e.g., disease patches) as translated polygons\n",
        "base_patch = Polygon([(0,0),(800,0),(800,600),(0,600)])\n",
        "patch_polys = [\n",
        "    translate(base_patch, xoff=1400, yoff=1200),\n",
        "    translate(base_patch, xoff=2600, yoff=900),\n",
        "    translate(base_patch, xoff=3400, yoff=2500),\n",
        "]\n",
        "gdf_patches = gpd.GeoDataFrame(\n",
        "    {\"patch_id\":[101,102,103], \"severity\":[0.2,0.6,0.8], \"geometry\":patch_polys},\n",
        "    crs=CRS_IL_E\n",
        ")\n",
        "\n",
        "# --- Make some “sensor hits” (points) and buffer them (e.g., VOC detection zones)\n",
        "rng = np.random.default_rng(42)\n",
        "pts = []\n",
        "for k in range(20):\n",
        "    x = rng.uniform(800, 5200)\n",
        "    y = rng.uniform(700, 3300)\n",
        "    pts.append(Point(x, y))\n",
        "gdf_hits = gpd.GeoDataFrame({\"hit_id\": range(1,21)}, geometry=pts, crs=CRS_IL_E)\n",
        "gdf_hitbuf = gdf_hits.copy()\n",
        "gdf_hitbuf[\"geometry\"] = gdf_hitbuf.buffer(250)  # 250 ft buffer\n",
        "\n",
        "# Wrap AOI into a GeoDataFrame for convenience\n",
        "gdf_aoi = gpd.GeoDataFrame({\"name\":[\"AOI\"]}, geometry=[aoi], crs=CRS_IL_E)\n"
      ]
    },
    {
      "cell_type": "code",
      "execution_count": 3,
      "id": "49dac356",
      "metadata": {
        "colab": {
          "base_uri": "https://localhost:8080/",
          "height": 413
        },
        "id": "49dac356",
        "outputId": "11172cdb-95ee-4b0e-f5d3-4c8b33b010ba"
      },
      "outputs": [
        {
          "output_type": "display_data",
          "data": {
            "text/plain": [
              "<Figure size 640x480 with 1 Axes>"
            ],
            "image/png": "[encoded data removed]"
          },
          "metadata": {}
        }
      ],
      "source": [
        "## Visualization\n",
        "ax = gdf_aoi.plot(edgecolor=None, facecolor=\"none\")\n",
        "gdf_fields.plot(ax=ax, alpha=0.2)\n",
        "gdf_patches.plot(ax=ax, alpha=0.4)\n",
        "gdf_hits.plot(ax=ax, markersize=10)\n",
        "plt.title(\"AOI, Fields, Patches, and Hits\")\n",
        "plt.show()\n"
      ]
    },
    {
      "cell_type": "markdown",
      "id": "94d7f352",
      "metadata": {
        "id": "94d7f352"
      },
      "source": [
        "## 2) Vector Overlay Examples"
      ]
    },
    {
      "cell_type": "code",
      "execution_count": 14,
      "id": "8cf6c3f2",
      "metadata": {
        "colab": {
          "base_uri": "https://localhost:8080/"
        },
        "id": "8cf6c3f2",
        "outputId": "5370991a-943e-4c2c-87b8-2c3e6f96c5a5"
      },
      "outputs": [
        {
          "output_type": "stream",
          "name": "stdout",
          "text": [
            "Patches intersecting AOI: 3\n",
            "Patches intersecting any field: 3\n"
          ]
        },
        {
          "output_type": "stream",
          "name": "stderr",
          "text": [
            "/tmp/ipython-input-1552095000.py:4: DeprecationWarning: The 'unary_union' attribute is deprecated, use the 'union_all()' method instead.\n",
            "  fields_union = gdf_fields.unary_union\n"
          ]
        }
      ],
      "source": [
        "\n",
        "# A) Clip patches to the AOI (or to the union of fields)\n",
        "# Use when you need to mask features to a study area or a set of polygons.\n",
        "patches_in_aoi = gpd.overlay(gdf_patches, gdf_aoi, how=\"intersection\")\n",
        "\n",
        "fields_union = gdf_fields.unary_union\n",
        "patches_in_fields = gpd.clip(gdf_patches, fields_union)\n",
        "\n",
        "print(\"Patches intersecting AOI:\", len(patches_in_aoi))\n",
        "print(\"Patches intersecting any field:\", len(patches_in_fields))\n"
      ]
    },
    {
      "cell_type": "code",
      "execution_count": 5,
      "id": "045750a6",
      "metadata": {
        "colab": {
          "base_uri": "https://localhost:8080/",
          "height": 175
        },
        "id": "045750a6",
        "outputId": "dc2223c9-d518-42c4-fc45-de976ae46cab"
      },
      "outputs": [
        {
          "output_type": "execute_result",
          "data": {
            "text/plain": [
              "   patch_id  field_id  overlap_ft2\n",
              "1       102         3     480000.0\n",
              "0       101         1     360000.0\n",
              "2       103         4     240000.0\n",
              "3       103         6      60000.0"
            ],
            "text/html": [
              "\n",
              "  <div id=\"df-b4e27dc3-812a-4192-806e-1b8dab53a329\" class=\"colab-df-container\">\n",
              "    <div>\n",
              "<style scoped>\n",
              "    .dataframe tbody tr th:only-of-type {\n",
              "        vertical-align: middle;\n",
              "    }\n",
              "\n",
              "    .dataframe tbody tr th {\n",
              "        vertical-align: top;\n",
              "    }\n",
              "\n",
              "    .dataframe thead th {\n",
              "        text-align: right;\n",
              "    }\n",
              "</style>\n",
              "<table border=\"1\" class=\"dataframe\">\n",
              "  <thead>\n",
              "    <tr style=\"text-align: right;\">\n",
              "      <th></th>\n",
              "      <th>patch_id</th>\n",
              "      <th>field_id</th>\n",
              "      <th>overlap_ft2</th>\n",
              "    </tr>\n",
              "  </thead>\n",
              "  <tbody>\n",
              "    <tr>\n",
              "      <th>1</th>\n",
              "      <td>102</td>\n",
              "      <td>3</td>\n",
              "      <td>480000.0</td>\n",
              "    </tr>\n",
              "    <tr>\n",
              "      <th>0</th>\n",
              "      <td>101</td>\n",
              "      <td>1</td>\n",
              "      <td>360000.0</td>\n",
              "    </tr>\n",
              "    <tr>\n",
              "      <th>2</th>\n",
              "      <td>103</td>\n",
              "      <td>4</td>\n",
              "      <td>240000.0</td>\n",
              "    </tr>\n",
              "    <tr>\n",
              "      <th>3</th>\n",
              "      <td>103</td>\n",
              "      <td>6</td>\n",
              "      <td>60000.0</td>\n",
              "    </tr>\n",
              "  </tbody>\n",
              "</table>\n",
              "</div>\n",
              "    <div class=\"colab-df-buttons\">\n",
              "\n",
              "  <div class=\"colab-df-container\">\n",
              "    <button class=\"colab-df-convert\" onclick=\"convertToInteractive('df-b4e27dc3-812a-4192-806e-1b8dab53a329')\"\n",
              "            title=\"Convert this dataframe to an interactive table.\"\n",
              "            style=\"display:none;\">\n",
              "\n",
              "  <svg xmlns=\"http://www.w3.org/2000/svg\" height=\"24px\" viewBox=\"0 -960 960 960\">\n",
              "    <path d=\"M120-120v-720h720v720H120Zm60-500h600v-160H180v160Zm220 220h160v-160H400v160Zm0 220h160v-160H400v160ZM180-400h160v-160H180v160Zm440 0h160v-160H620v160ZM180-180h160v-160H180v160Zm440 0h160v-160H620v160Z\"/>\n",
              "  </svg>\n",
              "    </button>\n",
              "\n",
              "  <style>\n",
              "    .colab-df-container {\n",
              "      display:flex;\n",
              "      gap: 12px;\n",
              "    }\n",
              "\n",
              "    .colab-df-convert {\n",
              "      background-color: #E8F0FE;\n",
              "      border: none;\n",
              "      border-radius: 50%;\n",
              "      cursor: pointer;\n",
              "      display: none;\n",
              "      fill: #1967D2;\n",
              "      height: 32px;\n",
              "      padding: 0 0 0 0;\n",
              "      width: 32px;\n",
              "    }\n",
              "\n",
              "    .colab-df-convert:hover {\n",
              "      background-color: #E2EBFA;\n",
              "      box-shadow: 0px 1px 2px rgba(60, 64, 67, 0.3), 0px 1px 3px 1px rgba(60, 64, 67, 0.15);\n",
              "      fill: #174EA6;\n",
              "    }\n",
              "\n",
              "    .colab-df-buttons div {\n",
              "      margin-bottom: 4px;\n",
              "    }\n",
              "\n",
              "    [theme=dark] .colab-df-convert {\n",
              "      background-color: #3B4455;\n",
              "      fill: #D2E3FC;\n",
              "    }\n",
              "\n",
              "    [theme=dark] .colab-df-convert:hover {\n",
              "      background-color: #434B5C;\n",
              "      box-shadow: 0px 1px 3px 1px rgba(0, 0, 0, 0.15);\n",
              "      filter: drop-shadow(0px 1px 2px rgba(0, 0, 0, 0.3));\n",
              "      fill: #FFFFFF;\n",
              "    }\n",
              "  </style>\n",
              "\n",
              "    <script>\n",
              "      const buttonEl =\n",
              "        document.querySelector('#df-b4e27dc3-812a-4192-806e-1b8dab53a329 button.colab-df-convert');\n",
              "      buttonEl.style.display =\n",
              "        google.colab.kernel.accessAllowed ? 'block' : 'none';\n",
              "\n",
              "      async function convertToInteractive(key) {\n",
              "        const element = document.querySelector('#df-b4e27dc3-812a-4192-806e-1b8dab53a329');\n",
              "        const dataTable =\n",
              "          await google.colab.kernel.invokeFunction('convertToInteractive',\n",
              "                                                    [key], {});\n",
              "        if (!dataTable) return;\n",
              "\n",
              "        const docLinkHtml = 'Like what you see? Visit the ' +\n",
              "          '<a target=\"_blank\" href=https://colab.research.google.com/notebooks/data_table.ipynb>data table notebook</a>'\n",
              "          + ' to learn more about interactive tables.';\n",
              "        element.innerHTML = '';\n",
              "        dataTable['output_type'] = 'display_data';\n",
              "        await google.colab.output.renderOutput(dataTable, element);\n",
              "        const docLink = document.createElement('div');\n",
              "        docLink.innerHTML = docLinkHtml;\n",
              "        element.appendChild(docLink);\n",
              "      }\n",
              "    </script>\n",
              "  </div>\n",
              "\n",
              "\n",
              "    <div id=\"df-57ad724b-e33a-43ee-a06d-00874afbb816\">\n",
              "      <button class=\"colab-df-quickchart\" onclick=\"quickchart('df-57ad724b-e33a-43ee-a06d-00874afbb816')\"\n",
              "                title=\"Suggest charts\"\n",
              "                style=\"display:none;\">\n",
              "\n",
              "<svg xmlns=\"http://www.w3.org/2000/svg\" height=\"24px\"viewBox=\"0 0 24 24\"\n",
              "     width=\"24px\">\n",
              "    <g>\n",
              "        <path d=\"M19 3H5c-1.1 0-2 .9-2 2v14c0 1.1.9 2 2 2h14c1.1 0 2-.9 2-2V5c0-1.1-.9-2-2-2zM9 17H7v-7h2v7zm4 0h-2V7h2v10zm4 0h-2v-4h2v4z\"/>\n",
              "    </g>\n",
              "</svg>\n",
              "      </button>\n",
              "\n",
              "<style>\n",
              "  .colab-df-quickchart {\n",
              "      --bg-color: #E8F0FE;\n",
              "      --fill-color: #1967D2;\n",
              "      --hover-bg-color: #E2EBFA;\n",
              "      --hover-fill-color: #174EA6;\n",
              "      --disabled-fill-color: #AAA;\n",
              "      --disabled-bg-color: #DDD;\n",
              "  }\n",
              "\n",
              "  [theme=dark] .colab-df-quickchart {\n",
              "      --bg-color: #3B4455;\n",
              "      --fill-color: #D2E3FC;\n",
              "      --hover-bg-color: #434B5C;\n",
              "      --hover-fill-color: #FFFFFF;\n",
              "      --disabled-bg-color: #3B4455;\n",
              "      --disabled-fill-color: #666;\n",
              "  }\n",
              "\n",
              "  .colab-df-quickchart {\n",
              "    background-color: var(--bg-color);\n",
              "    border: none;\n",
              "    border-radius: 50%;\n",
              "    cursor: pointer;\n",
              "    display: none;\n",
              "    fill: var(--fill-color);\n",
              "    height: 32px;\n",
              "    padding: 0;\n",
              "    width: 32px;\n",
              "  }\n",
              "\n",
              "  .colab-df-quickchart:hover {\n",
              "    background-color: var(--hover-bg-color);\n",
              "    box-shadow: 0 1px 2px rgba(60, 64, 67, 0.3), 0 1px 3px 1px rgba(60, 64, 67, 0.15);\n",
              "    fill: var(--button-hover-fill-color);\n",
              "  }\n",
              "\n",
              "  .colab-df-quickchart-complete:disabled,\n",
              "  .colab-df-quickchart-complete:disabled:hover {\n",
              "    background-color: var(--disabled-bg-color);\n",
              "    fill: var(--disabled-fill-color);\n",
              "    box-shadow: none;\n",
              "  }\n",
              "\n",
              "  .colab-df-spinner {\n",
              "    border: 2px solid var(--fill-color);\n",
              "    border-color: transparent;\n",
              "    border-bottom-color: var(--fill-color);\n",
              "    animation:\n",
              "      spin 1s steps(1) infinite;\n",
              "  }\n",
              "\n",
              "  @keyframes spin {\n",
              "    0% {\n",
              "      border-color: transparent;\n",
              "      border-bottom-color: var(--fill-color);\n",
              "      border-left-color: var(--fill-color);\n",
              "    }\n",
              "    20% {\n",
              "      border-color: transparent;\n",
              "      border-left-color: var(--fill-color);\n",
              "      border-top-color: var(--fill-color);\n",
              "    }\n",
              "    30% {\n",
              "      border-color: transparent;\n",
              "      border-left-color: var(--fill-color);\n",
              "      border-top-color: var(--fill-color);\n",
              "      border-right-color: var(--fill-color);\n",
              "    }\n",
              "    40% {\n",
              "      border-color: transparent;\n",
              "      border-right-color: var(--fill-color);\n",
              "      border-top-color: var(--fill-color);\n",
              "    }\n",
              "    60% {\n",
              "      border-color: transparent;\n",
              "      border-right-color: var(--fill-color);\n",
              "    }\n",
              "    80% {\n",
              "      border-color: transparent;\n",
              "      border-right-color: var(--fill-color);\n",
              "      border-bottom-color: var(--fill-color);\n",
              "    }\n",
              "    90% {\n",
              "      border-color: transparent;\n",
              "      border-bottom-color: var(--fill-color);\n",
              "    }\n",
              "  }\n",
              "</style>\n",
              "\n",
              "      <script>\n",
              "        async function quickchart(key) {\n",
              "          const quickchartButtonEl =\n",
              "            document.querySelector('#' + key + ' button');\n",
              "          quickchartButtonEl.disabled = true;  // To prevent multiple clicks.\n",
              "          quickchartButtonEl.classList.add('colab-df-spinner');\n",
              "          try {\n",
              "            const charts = await google.colab.kernel.invokeFunction(\n",
              "                'suggestCharts', [key], {});\n",
              "          } catch (error) {\n",
              "            console.error('Error during call to suggestCharts:', error);\n",
              "          }\n",
              "          quickchartButtonEl.classList.remove('colab-df-spinner');\n",
              "          quickchartButtonEl.classList.add('colab-df-quickchart-complete');\n",
              "        }\n",
              "        (() => {\n",
              "          let quickchartButtonEl =\n",
              "            document.querySelector('#df-57ad724b-e33a-43ee-a06d-00874afbb816 button');\n",
              "          quickchartButtonEl.style.display =\n",
              "            google.colab.kernel.accessAllowed ? 'block' : 'none';\n",
              "        })();\n",
              "      </script>\n",
              "    </div>\n",
              "\n",
              "    </div>\n",
              "  </div>\n"
            ],
            "application/vnd.google.colaboratory.intrinsic+json": {
              "type": "dataframe",
              "variable_name": "patch_field_ix_sorted",
              "summary": "{\n  \"name\": \"patch_field_ix_sorted\",\n  \"rows\": 4,\n  \"fields\": [\n    {\n      \"column\": \"patch_id\",\n      \"properties\": {\n        \"dtype\": \"number\",\n        \"std\": 0,\n        \"min\": 101,\n        \"max\": 103,\n        \"num_unique_values\": 3,\n        \"samples\": [\n          102,\n          101,\n          103\n        ],\n        \"semantic_type\": \"\",\n        \"description\": \"\"\n      }\n    },\n    {\n      \"column\": \"field_id\",\n      \"properties\": {\n        \"dtype\": \"number\",\n        \"std\": 2,\n        \"min\": 1,\n        \"max\": 6,\n        \"num_unique_values\": 4,\n        \"samples\": [\n          1,\n          6,\n          3\n        ],\n        \"semantic_type\": \"\",\n        \"description\": \"\"\n      }\n    },\n    {\n      \"column\": \"overlap_ft2\",\n      \"properties\": {\n        \"dtype\": \"number\",\n        \"std\": 179164.72867168917,\n        \"min\": 60000.0,\n        \"max\": 480000.0,\n        \"num_unique_values\": 4,\n        \"samples\": [\n          360000.0,\n          60000.0,\n          480000.0\n        ],\n        \"semantic_type\": \"\",\n        \"description\": \"\"\n      }\n    }\n  ]\n}"
            }
          },
          "metadata": {},
          "execution_count": 5
        }
      ],
      "source": [
        "\n",
        "# B) Which patches overlap which fields? (intersection)\n",
        "# Use when you need per-pair overlaps and their areas.\n",
        "patch_field_ix = gpd.overlay(gdf_patches, gdf_fields, how=\"intersection\")\n",
        "patch_field_ix[\"overlap_ft2\"] = patch_field_ix.area\n",
        "patch_field_ix_sorted = patch_field_ix[[\"patch_id\",\"field_id\",\"overlap_ft2\"]].sort_values(\"overlap_ft2\", ascending=False)\n",
        "patch_field_ix_sorted.head()\n"
      ]
    },
    {
      "cell_type": "code",
      "execution_count": 6,
      "id": "a58de73b",
      "metadata": {
        "colab": {
          "base_uri": "https://localhost:8080/"
        },
        "id": "a58de73b",
        "outputId": "c6fda11f-a085-4878-f28a-d243e35da1a5"
      },
      "outputs": [
        {
          "output_type": "execute_result",
          "data": {
            "text/plain": [
              "(   field_id  n_hits\n",
              " 0       2.0       3\n",
              " 1       3.0       4\n",
              " 2       4.0       2\n",
              " 3       5.0       2\n",
              " 4       6.0       4\n",
              " 5       NaN       5,\n",
              "    patch_id  n_hits\n",
              " 0     102.0       2\n",
              " 1     103.0       2\n",
              " 2       NaN      16)"
            ]
          },
          "metadata": {},
          "execution_count": 6
        }
      ],
      "source": [
        "\n",
        "# C) Spatial join: count sensor hits per field & per patch\n",
        "# Use when point events need to be summarized by regions (counts, densities, etc.).\n",
        "\n",
        "# Points-in-polygons count per field\n",
        "hits_in_fields = gpd.sjoin(gdf_hits, gdf_fields, how=\"left\", predicate=\"within\")\n",
        "hits_per_field = hits_in_fields.groupby(\"field_id\", dropna=False).size().reset_index(name=\"n_hits\")\n",
        "\n",
        "# Points-in-polygons count per patch\n",
        "hits_in_patches = gpd.sjoin(gdf_hits, gdf_patches, how=\"left\", predicate=\"within\")\n",
        "hits_per_patch = hits_in_patches.groupby(\"patch_id\", dropna=False).size().reset_index(name=\"n_hits\")\n",
        "\n",
        "hits_per_field, hits_per_patch\n"
      ]
    },
    {
      "cell_type": "code",
      "execution_count": 7,
      "id": "6e9f6fd9",
      "metadata": {
        "colab": {
          "base_uri": "https://localhost:8080/",
          "height": 112
        },
        "id": "6e9f6fd9",
        "outputId": "191642f4-c87e-48a3-d0cd-6c9011f9e334"
      },
      "outputs": [
        {
          "output_type": "execute_result",
          "data": {
            "text/plain": [
              "  block       acres\n",
              "0     A  134.297521\n",
              "1     B  134.297521"
            ],
            "text/html": [
              "\n",
              "  <div id=\"df-b69f1f6a-ddca-4d3d-970e-b26b4c573861\" class=\"colab-df-container\">\n",
              "    <div>\n",
              "<style scoped>\n",
              "    .dataframe tbody tr th:only-of-type {\n",
              "        vertical-align: middle;\n",
              "    }\n",
              "\n",
              "    .dataframe tbody tr th {\n",
              "        vertical-align: top;\n",
              "    }\n",
              "\n",
              "    .dataframe thead th {\n",
              "        text-align: right;\n",
              "    }\n",
              "</style>\n",
              "<table border=\"1\" class=\"dataframe\">\n",
              "  <thead>\n",
              "    <tr style=\"text-align: right;\">\n",
              "      <th></th>\n",
              "      <th>block</th>\n",
              "      <th>acres</th>\n",
              "    </tr>\n",
              "  </thead>\n",
              "  <tbody>\n",
              "    <tr>\n",
              "      <th>0</th>\n",
              "      <td>A</td>\n",
              "      <td>134.297521</td>\n",
              "    </tr>\n",
              "    <tr>\n",
              "      <th>1</th>\n",
              "      <td>B</td>\n",
              "      <td>134.297521</td>\n",
              "    </tr>\n",
              "  </tbody>\n",
              "</table>\n",
              "</div>\n",
              "    <div class=\"colab-df-buttons\">\n",
              "\n",
              "  <div class=\"colab-df-container\">\n",
              "    <button class=\"colab-df-convert\" onclick=\"convertToInteractive('df-b69f1f6a-ddca-4d3d-970e-b26b4c573861')\"\n",
              "            title=\"Convert this dataframe to an interactive table.\"\n",
              "            style=\"display:none;\">\n",
              "\n",
              "  <svg xmlns=\"http://www.w3.org/2000/svg\" height=\"24px\" viewBox=\"0 -960 960 960\">\n",
              "    <path d=\"M120-120v-720h720v720H120Zm60-500h600v-160H180v160Zm220 220h160v-160H400v160Zm0 220h160v-160H400v160ZM180-400h160v-160H180v160Zm440 0h160v-160H620v160ZM180-180h160v-160H180v160Zm440 0h160v-160H620v160Z\"/>\n",
              "  </svg>\n",
              "    </button>\n",
              "\n",
              "  <style>\n",
              "    .colab-df-container {\n",
              "      display:flex;\n",
              "      gap: 12px;\n",
              "    }\n",
              "\n",
              "    .colab-df-convert {\n",
              "      background-color: #E8F0FE;\n",
              "      border: none;\n",
              "      border-radius: 50%;\n",
              "      cursor: pointer;\n",
              "      display: none;\n",
              "      fill: #1967D2;\n",
              "      height: 32px;\n",
              "      padding: 0 0 0 0;\n",
              "      width: 32px;\n",
              "    }\n",
              "\n",
              "    .colab-df-convert:hover {\n",
              "      background-color: #E2EBFA;\n",
              "      box-shadow: 0px 1px 2px rgba(60, 64, 67, 0.3), 0px 1px 3px 1px rgba(60, 64, 67, 0.15);\n",
              "      fill: #174EA6;\n",
              "    }\n",
              "\n",
              "    .colab-df-buttons div {\n",
              "      margin-bottom: 4px;\n",
              "    }\n",
              "\n",
              "    [theme=dark] .colab-df-convert {\n",
              "      background-color: #3B4455;\n",
              "      fill: #D2E3FC;\n",
              "    }\n",
              "\n",
              "    [theme=dark] .colab-df-convert:hover {\n",
              "      background-color: #434B5C;\n",
              "      box-shadow: 0px 1px 3px 1px rgba(0, 0, 0, 0.15);\n",
              "      filter: drop-shadow(0px 1px 2px rgba(0, 0, 0, 0.3));\n",
              "      fill: #FFFFFF;\n",
              "    }\n",
              "  </style>\n",
              "\n",
              "    <script>\n",
              "      const buttonEl =\n",
              "        document.querySelector('#df-b69f1f6a-ddca-4d3d-970e-b26b4c573861 button.colab-df-convert');\n",
              "      buttonEl.style.display =\n",
              "        google.colab.kernel.accessAllowed ? 'block' : 'none';\n",
              "\n",
              "      async function convertToInteractive(key) {\n",
              "        const element = document.querySelector('#df-b69f1f6a-ddca-4d3d-970e-b26b4c573861');\n",
              "        const dataTable =\n",
              "          await google.colab.kernel.invokeFunction('convertToInteractive',\n",
              "                                                    [key], {});\n",
              "        if (!dataTable) return;\n",
              "\n",
              "        const docLinkHtml = 'Like what you see? Visit the ' +\n",
              "          '<a target=\"_blank\" href=https://colab.research.google.com/notebooks/data_table.ipynb>data table notebook</a>'\n",
              "          + ' to learn more about interactive tables.';\n",
              "        element.innerHTML = '';\n",
              "        dataTable['output_type'] = 'display_data';\n",
              "        await google.colab.output.renderOutput(dataTable, element);\n",
              "        const docLink = document.createElement('div');\n",
              "        docLink.innerHTML = docLinkHtml;\n",
              "        element.appendChild(docLink);\n",
              "      }\n",
              "    </script>\n",
              "  </div>\n",
              "\n",
              "\n",
              "    <div id=\"df-32d6db53-a2c4-4beb-b457-217396c98bea\">\n",
              "      <button class=\"colab-df-quickchart\" onclick=\"quickchart('df-32d6db53-a2c4-4beb-b457-217396c98bea')\"\n",
              "                title=\"Suggest charts\"\n",
              "                style=\"display:none;\">\n",
              "\n",
              "<svg xmlns=\"http://www.w3.org/2000/svg\" height=\"24px\"viewBox=\"0 0 24 24\"\n",
              "     width=\"24px\">\n",
              "    <g>\n",
              "        <path d=\"M19 3H5c-1.1 0-2 .9-2 2v14c0 1.1.9 2 2 2h14c1.1 0 2-.9 2-2V5c0-1.1-.9-2-2-2zM9 17H7v-7h2v7zm4 0h-2V7h2v10zm4 0h-2v-4h2v4z\"/>\n",
              "    </g>\n",
              "</svg>\n",
              "      </button>\n",
              "\n",
              "<style>\n",
              "  .colab-df-quickchart {\n",
              "      --bg-color: #E8F0FE;\n",
              "      --fill-color: #1967D2;\n",
              "      --hover-bg-color: #E2EBFA;\n",
              "      --hover-fill-color: #174EA6;\n",
              "      --disabled-fill-color: #AAA;\n",
              "      --disabled-bg-color: #DDD;\n",
              "  }\n",
              "\n",
              "  [theme=dark] .colab-df-quickchart {\n",
              "      --bg-color: #3B4455;\n",
              "      --fill-color: #D2E3FC;\n",
              "      --hover-bg-color: #434B5C;\n",
              "      --hover-fill-color: #FFFFFF;\n",
              "      --disabled-bg-color: #3B4455;\n",
              "      --disabled-fill-color: #666;\n",
              "  }\n",
              "\n",
              "  .colab-df-quickchart {\n",
              "    background-color: var(--bg-color);\n",
              "    border: none;\n",
              "    border-radius: 50%;\n",
              "    cursor: pointer;\n",
              "    display: none;\n",
              "    fill: var(--fill-color);\n",
              "    height: 32px;\n",
              "    padding: 0;\n",
              "    width: 32px;\n",
              "  }\n",
              "\n",
              "  .colab-df-quickchart:hover {\n",
              "    background-color: var(--hover-bg-color);\n",
              "    box-shadow: 0 1px 2px rgba(60, 64, 67, 0.3), 0 1px 3px 1px rgba(60, 64, 67, 0.15);\n",
              "    fill: var(--button-hover-fill-color);\n",
              "  }\n",
              "\n",
              "  .colab-df-quickchart-complete:disabled,\n",
              "  .colab-df-quickchart-complete:disabled:hover {\n",
              "    background-color: var(--disabled-bg-color);\n",
              "    fill: var(--disabled-fill-color);\n",
              "    box-shadow: none;\n",
              "  }\n",
              "\n",
              "  .colab-df-spinner {\n",
              "    border: 2px solid var(--fill-color);\n",
              "    border-color: transparent;\n",
              "    border-bottom-color: var(--fill-color);\n",
              "    animation:\n",
              "      spin 1s steps(1) infinite;\n",
              "  }\n",
              "\n",
              "  @keyframes spin {\n",
              "    0% {\n",
              "      border-color: transparent;\n",
              "      border-bottom-color: var(--fill-color);\n",
              "      border-left-color: var(--fill-color);\n",
              "    }\n",
              "    20% {\n",
              "      border-color: transparent;\n",
              "      border-left-color: var(--fill-color);\n",
              "      border-top-color: var(--fill-color);\n",
              "    }\n",
              "    30% {\n",
              "      border-color: transparent;\n",
              "      border-left-color: var(--fill-color);\n",
              "      border-top-color: var(--fill-color);\n",
              "      border-right-color: var(--fill-color);\n",
              "    }\n",
              "    40% {\n",
              "      border-color: transparent;\n",
              "      border-right-color: var(--fill-color);\n",
              "      border-top-color: var(--fill-color);\n",
              "    }\n",
              "    60% {\n",
              "      border-color: transparent;\n",
              "      border-right-color: var(--fill-color);\n",
              "    }\n",
              "    80% {\n",
              "      border-color: transparent;\n",
              "      border-right-color: var(--fill-color);\n",
              "      border-bottom-color: var(--fill-color);\n",
              "    }\n",
              "    90% {\n",
              "      border-color: transparent;\n",
              "      border-bottom-color: var(--fill-color);\n",
              "    }\n",
              "  }\n",
              "</style>\n",
              "\n",
              "      <script>\n",
              "        async function quickchart(key) {\n",
              "          const quickchartButtonEl =\n",
              "            document.querySelector('#' + key + ' button');\n",
              "          quickchartButtonEl.disabled = true;  // To prevent multiple clicks.\n",
              "          quickchartButtonEl.classList.add('colab-df-spinner');\n",
              "          try {\n",
              "            const charts = await google.colab.kernel.invokeFunction(\n",
              "                'suggestCharts', [key], {});\n",
              "          } catch (error) {\n",
              "            console.error('Error during call to suggestCharts:', error);\n",
              "          }\n",
              "          quickchartButtonEl.classList.remove('colab-df-spinner');\n",
              "          quickchartButtonEl.classList.add('colab-df-quickchart-complete');\n",
              "        }\n",
              "        (() => {\n",
              "          let quickchartButtonEl =\n",
              "            document.querySelector('#df-32d6db53-a2c4-4beb-b457-217396c98bea button');\n",
              "          quickchartButtonEl.style.display =\n",
              "            google.colab.kernel.accessAllowed ? 'block' : 'none';\n",
              "        })();\n",
              "      </script>\n",
              "    </div>\n",
              "\n",
              "    </div>\n",
              "  </div>\n"
            ],
            "application/vnd.google.colaboratory.intrinsic+json": {
              "type": "dataframe",
              "summary": "{\n  \"name\": \"fields_by_block[[\\\"block\\\",\\\"acres\\\"]]\",\n  \"rows\": 2,\n  \"fields\": [\n    {\n      \"column\": \"block\",\n      \"properties\": {\n        \"dtype\": \"string\",\n        \"num_unique_values\": 2,\n        \"samples\": [\n          \"B\",\n          \"A\"\n        ],\n        \"semantic_type\": \"\",\n        \"description\": \"\"\n      }\n    },\n    {\n      \"column\": \"acres\",\n      \"properties\": {\n        \"dtype\": \"number\",\n        \"std\": 0.0,\n        \"min\": 134.29752066115702,\n        \"max\": 134.29752066115702,\n        \"num_unique_values\": 1,\n        \"samples\": [\n          134.29752066115702\n        ],\n        \"semantic_type\": \"\",\n        \"description\": \"\"\n      }\n    }\n  ]\n}"
            }
          },
          "metadata": {},
          "execution_count": 7
        }
      ],
      "source": [
        "\n",
        "# D) Dissolve fields by a simple block label and sum area\n",
        "# Use when you need regional summaries: boundaries merged, statistics rolled up.\n",
        "# acres = area / 43560\n",
        "\n",
        "gdf_fields[\"block\"] = np.where(gdf_fields[\"field_id\"].isin([1,2,3]), \"A\", \"B\")\n",
        "fields_by_block = gdf_fields.dissolve(by=\"block\", as_index=False, aggfunc=\"sum\")\n",
        "fields_by_block[\"acres\"] = fields_by_block.area / 43560.0\n",
        "fields_by_block[[\"block\",\"acres\"]]\n"
      ]
    },
    {
      "cell_type": "code",
      "execution_count": 8,
      "id": "7327cf5e",
      "metadata": {
        "colab": {
          "base_uri": "https://localhost:8080/",
          "height": 365
        },
        "id": "7327cf5e",
        "outputId": "b3a8b45e-f656-4ffb-97e4-ef3297bac3bf"
      },
      "outputs": [
        {
          "output_type": "display_data",
          "data": {
            "text/plain": [
              "<Figure size 640x480 with 1 Axes>"
            ],
            "image/png": "[encoded data removed]"
          },
          "metadata": {}
        }
      ],
      "source": [
        "# Visualize\n",
        "ax = gdf_fields.plot(alpha=0.1)\n",
        "gdf_patches.plot(ax=ax, alpha=0.3)\n",
        "patch_field_ix.boundary.plot(ax=ax)\n",
        "plt.title(\"Patch ∩ Field boundaries\")\n",
        "plt.show()\n"
      ]
    },
    {
      "cell_type": "markdown",
      "id": "aa118a66",
      "metadata": {
        "id": "aa118a66"
      },
      "source": [
        "## 3) Raster ↔ Vector Overlay (Zonal Mean)\n",
        "We synthesize a “thermal” raster over the AOI:\n",
        "\n",
        "  - Grid: 50 ft pixels using a transform from AOI bounds.\n",
        "\n",
        "  - Values: A smooth ramp plus a Gaussian “hotspot.”\n",
        "\n",
        "Then for each patch:\n",
        "\n",
        "1. Rasterize the polygon to a boolean mask (rasterio.features.rasterize), aligned to the raster grid.\n",
        "\n",
        "2. Use the mask to index the raster band and compute mean_temp.\n",
        "\n",
        "**Why do it this way?** It’s the core of zonal stats without extra dependencies. In production, rasterstats.zonal_stats is convenient, but rasterizing yourself is flexible and fast."
      ]
    },
    {
      "cell_type": "code",
      "source": [
        "!pip install rasterio"
      ],
      "metadata": {
        "colab": {
          "base_uri": "https://localhost:8080/"
        },
        "id": "i8xRW1jzA7mc",
        "outputId": "1b04569b-8abd-41df-e892-b6b9dc02d89a"
      },
      "id": "i8xRW1jzA7mc",
      "execution_count": 10,
      "outputs": [
        {
          "output_type": "stream",
          "name": "stdout",
          "text": [
            "Collecting rasterio\n",
            "  Downloading rasterio-1.4.3-cp312-cp312-manylinux_2_17_x86_64.manylinux2014_x86_64.whl.metadata (9.1 kB)\n",
            "Collecting affine (from rasterio)\n",
            "  Downloading affine-2.4.0-py3-none-any.whl.metadata (4.0 kB)\n",
            "Requirement already satisfied: attrs in /usr/local/lib/python3.12/dist-packages (from rasterio) (25.3.0)\n",
            "Requirement already satisfied: certifi in /usr/local/lib/python3.12/dist-packages (from rasterio) (2025.8.3)\n",
            "Requirement already satisfied: click>=4.0 in /usr/local/lib/python3.12/dist-packages (from rasterio) (8.2.1)\n",
            "Collecting cligj>=0.5 (from rasterio)\n",
            "  Downloading cligj-0.7.2-py3-none-any.whl.metadata (5.0 kB)\n",
            "Requirement already satisfied: numpy>=1.24 in /usr/local/lib/python3.12/dist-packages (from rasterio) (2.0.2)\n",
            "Collecting click-plugins (from rasterio)\n",
            "  Downloading click_plugins-1.1.1.2-py2.py3-none-any.whl.metadata (6.5 kB)\n",
            "Requirement already satisfied: pyparsing in /usr/local/lib/python3.12/dist-packages (from rasterio) (3.2.3)\n",
            "Downloading rasterio-1.4.3-cp312-cp312-manylinux_2_17_x86_64.manylinux2014_x86_64.whl (22.3 MB)\n",
            "\u001b[2K   \u001b[90m━━━━━━━━━━━━━━━━━━━━━━━━━━━━━━━━━━━━━━━━\u001b[0m \u001b[32m22.3/22.3 MB\u001b[0m \u001b[31m59.2 MB/s\u001b[0m eta \u001b[36m0:00:00\u001b[0m\n",
            "\u001b[?25hDownloading cligj-0.7.2-py3-none-any.whl (7.1 kB)\n",
            "Downloading affine-2.4.0-py3-none-any.whl (15 kB)\n",
            "Downloading click_plugins-1.1.1.2-py2.py3-none-any.whl (11 kB)\n",
            "Installing collected packages: cligj, click-plugins, affine, rasterio\n",
            "Successfully installed affine-2.4.0 click-plugins-1.1.1.2 cligj-0.7.2 rasterio-1.4.3\n"
          ]
        }
      ]
    },
    {
      "cell_type": "code",
      "execution_count": 11,
      "id": "f52bfcee",
      "metadata": {
        "colab": {
          "base_uri": "https://localhost:8080/",
          "height": 35
        },
        "id": "f52bfcee",
        "outputId": "dc0c6a08-2470-41d9-e991-2fb794caf308"
      },
      "outputs": [
        {
          "output_type": "execute_result",
          "data": {
            "text/plain": [
              "'thermal_demo.tif'"
            ],
            "application/vnd.google.colaboratory.intrinsic+json": {
              "type": "string"
            }
          },
          "metadata": {},
          "execution_count": 11
        }
      ],
      "source": [
        "\n",
        "import rasterio\n",
        "from rasterio.transform import from_origin\n",
        "\n",
        "# Make a simple raster that varies smoothly with x,y\n",
        "px = 50.0  # pixel size in feet\n",
        "width  = int(np.ceil((aoi.bounds[2] - aoi.bounds[0]) / px))\n",
        "height = int(np.ceil((aoi.bounds[3] - aoi.bounds[1]) / px))\n",
        "transform = from_origin(aoi.bounds[0], aoi.bounds[3], px, px)\n",
        "\n",
        "# Create synthetic \"temperature\" surface\n",
        "yy, xx = np.mgrid[0:height, 0:width]\n",
        "X = aoi.bounds[0] + xx * px\n",
        "Y = aoi.bounds[3] - yy * px\n",
        "temp = 70 + 0.004*X + 0.006*Y + 10*np.exp(-((X-3200)**2 + (Y-2100)**2)/(2*(800**2)))\n",
        "\n",
        "raster_path = \"thermal_demo.tif\"\n",
        "with rasterio.open(\n",
        "    raster_path, \"w\",\n",
        "    driver=\"GTiff\",\n",
        "    height=height, width=width,\n",
        "    count=1, dtype=temp.dtype,\n",
        "    crs=CRS_IL_E, transform=transform,\n",
        ") as dst:\n",
        "    dst.write(temp, 1)\n",
        "\n",
        "raster_path\n"
      ]
    },
    {
      "cell_type": "code",
      "execution_count": 12,
      "id": "d5879d2b",
      "metadata": {
        "colab": {
          "base_uri": "https://localhost:8080/",
          "height": 143
        },
        "id": "d5879d2b",
        "outputId": "c555c92f-c6a2-4b25-a24f-b8d45b177f06"
      },
      "outputs": [
        {
          "output_type": "execute_result",
          "data": {
            "text/plain": [
              "   patch_id  severity   mean_temp\n",
              "0       101       0.2   87.949142\n",
              "1       102       0.6   94.360841\n",
              "2       103       0.8  107.048356"
            ],
            "text/html": [
              "\n",
              "  <div id=\"df-c71d576e-5291-40b2-bbe8-d57b3a350790\" class=\"colab-df-container\">\n",
              "    <div>\n",
              "<style scoped>\n",
              "    .dataframe tbody tr th:only-of-type {\n",
              "        vertical-align: middle;\n",
              "    }\n",
              "\n",
              "    .dataframe tbody tr th {\n",
              "        vertical-align: top;\n",
              "    }\n",
              "\n",
              "    .dataframe thead th {\n",
              "        text-align: right;\n",
              "    }\n",
              "</style>\n",
              "<table border=\"1\" class=\"dataframe\">\n",
              "  <thead>\n",
              "    <tr style=\"text-align: right;\">\n",
              "      <th></th>\n",
              "      <th>patch_id</th>\n",
              "      <th>severity</th>\n",
              "      <th>mean_temp</th>\n",
              "    </tr>\n",
              "  </thead>\n",
              "  <tbody>\n",
              "    <tr>\n",
              "      <th>0</th>\n",
              "      <td>101</td>\n",
              "      <td>0.2</td>\n",
              "      <td>87.949142</td>\n",
              "    </tr>\n",
              "    <tr>\n",
              "      <th>1</th>\n",
              "      <td>102</td>\n",
              "      <td>0.6</td>\n",
              "      <td>94.360841</td>\n",
              "    </tr>\n",
              "    <tr>\n",
              "      <th>2</th>\n",
              "      <td>103</td>\n",
              "      <td>0.8</td>\n",
              "      <td>107.048356</td>\n",
              "    </tr>\n",
              "  </tbody>\n",
              "</table>\n",
              "</div>\n",
              "    <div class=\"colab-df-buttons\">\n",
              "\n",
              "  <div class=\"colab-df-container\">\n",
              "    <button class=\"colab-df-convert\" onclick=\"convertToInteractive('df-c71d576e-5291-40b2-bbe8-d57b3a350790')\"\n",
              "            title=\"Convert this dataframe to an interactive table.\"\n",
              "            style=\"display:none;\">\n",
              "\n",
              "  <svg xmlns=\"http://www.w3.org/2000/svg\" height=\"24px\" viewBox=\"0 -960 960 960\">\n",
              "    <path d=\"M120-120v-720h720v720H120Zm60-500h600v-160H180v160Zm220 220h160v-160H400v160Zm0 220h160v-160H400v160ZM180-400h160v-160H180v160Zm440 0h160v-160H620v160ZM180-180h160v-160H180v160Zm440 0h160v-160H620v160Z\"/>\n",
              "  </svg>\n",
              "    </button>\n",
              "\n",
              "  <style>\n",
              "    .colab-df-container {\n",
              "      display:flex;\n",
              "      gap: 12px;\n",
              "    }\n",
              "\n",
              "    .colab-df-convert {\n",
              "      background-color: #E8F0FE;\n",
              "      border: none;\n",
              "      border-radius: 50%;\n",
              "      cursor: pointer;\n",
              "      display: none;\n",
              "      fill: #1967D2;\n",
              "      height: 32px;\n",
              "      padding: 0 0 0 0;\n",
              "      width: 32px;\n",
              "    }\n",
              "\n",
              "    .colab-df-convert:hover {\n",
              "      background-color: #E2EBFA;\n",
              "      box-shadow: 0px 1px 2px rgba(60, 64, 67, 0.3), 0px 1px 3px 1px rgba(60, 64, 67, 0.15);\n",
              "      fill: #174EA6;\n",
              "    }\n",
              "\n",
              "    .colab-df-buttons div {\n",
              "      margin-bottom: 4px;\n",
              "    }\n",
              "\n",
              "    [theme=dark] .colab-df-convert {\n",
              "      background-color: #3B4455;\n",
              "      fill: #D2E3FC;\n",
              "    }\n",
              "\n",
              "    [theme=dark] .colab-df-convert:hover {\n",
              "      background-color: #434B5C;\n",
              "      box-shadow: 0px 1px 3px 1px rgba(0, 0, 0, 0.15);\n",
              "      filter: drop-shadow(0px 1px 2px rgba(0, 0, 0, 0.3));\n",
              "      fill: #FFFFFF;\n",
              "    }\n",
              "  </style>\n",
              "\n",
              "    <script>\n",
              "      const buttonEl =\n",
              "        document.querySelector('#df-c71d576e-5291-40b2-bbe8-d57b3a350790 button.colab-df-convert');\n",
              "      buttonEl.style.display =\n",
              "        google.colab.kernel.accessAllowed ? 'block' : 'none';\n",
              "\n",
              "      async function convertToInteractive(key) {\n",
              "        const element = document.querySelector('#df-c71d576e-5291-40b2-bbe8-d57b3a350790');\n",
              "        const dataTable =\n",
              "          await google.colab.kernel.invokeFunction('convertToInteractive',\n",
              "                                                    [key], {});\n",
              "        if (!dataTable) return;\n",
              "\n",
              "        const docLinkHtml = 'Like what you see? Visit the ' +\n",
              "          '<a target=\"_blank\" href=https://colab.research.google.com/notebooks/data_table.ipynb>data table notebook</a>'\n",
              "          + ' to learn more about interactive tables.';\n",
              "        element.innerHTML = '';\n",
              "        dataTable['output_type'] = 'display_data';\n",
              "        await google.colab.output.renderOutput(dataTable, element);\n",
              "        const docLink = document.createElement('div');\n",
              "        docLink.innerHTML = docLinkHtml;\n",
              "        element.appendChild(docLink);\n",
              "      }\n",
              "    </script>\n",
              "  </div>\n",
              "\n",
              "\n",
              "    <div id=\"df-3bcf3d92-6272-4453-9869-d39a214c6f34\">\n",
              "      <button class=\"colab-df-quickchart\" onclick=\"quickchart('df-3bcf3d92-6272-4453-9869-d39a214c6f34')\"\n",
              "                title=\"Suggest charts\"\n",
              "                style=\"display:none;\">\n",
              "\n",
              "<svg xmlns=\"http://www.w3.org/2000/svg\" height=\"24px\"viewBox=\"0 0 24 24\"\n",
              "     width=\"24px\">\n",
              "    <g>\n",
              "        <path d=\"M19 3H5c-1.1 0-2 .9-2 2v14c0 1.1.9 2 2 2h14c1.1 0 2-.9 2-2V5c0-1.1-.9-2-2-2zM9 17H7v-7h2v7zm4 0h-2V7h2v10zm4 0h-2v-4h2v4z\"/>\n",
              "    </g>\n",
              "</svg>\n",
              "      </button>\n",
              "\n",
              "<style>\n",
              "  .colab-df-quickchart {\n",
              "      --bg-color: #E8F0FE;\n",
              "      --fill-color: #1967D2;\n",
              "      --hover-bg-color: #E2EBFA;\n",
              "      --hover-fill-color: #174EA6;\n",
              "      --disabled-fill-color: #AAA;\n",
              "      --disabled-bg-color: #DDD;\n",
              "  }\n",
              "\n",
              "  [theme=dark] .colab-df-quickchart {\n",
              "      --bg-color: #3B4455;\n",
              "      --fill-color: #D2E3FC;\n",
              "      --hover-bg-color: #434B5C;\n",
              "      --hover-fill-color: #FFFFFF;\n",
              "      --disabled-bg-color: #3B4455;\n",
              "      --disabled-fill-color: #666;\n",
              "  }\n",
              "\n",
              "  .colab-df-quickchart {\n",
              "    background-color: var(--bg-color);\n",
              "    border: none;\n",
              "    border-radius: 50%;\n",
              "    cursor: pointer;\n",
              "    display: none;\n",
              "    fill: var(--fill-color);\n",
              "    height: 32px;\n",
              "    padding: 0;\n",
              "    width: 32px;\n",
              "  }\n",
              "\n",
              "  .colab-df-quickchart:hover {\n",
              "    background-color: var(--hover-bg-color);\n",
              "    box-shadow: 0 1px 2px rgba(60, 64, 67, 0.3), 0 1px 3px 1px rgba(60, 64, 67, 0.15);\n",
              "    fill: var(--button-hover-fill-color);\n",
              "  }\n",
              "\n",
              "  .colab-df-quickchart-complete:disabled,\n",
              "  .colab-df-quickchart-complete:disabled:hover {\n",
              "    background-color: var(--disabled-bg-color);\n",
              "    fill: var(--disabled-fill-color);\n",
              "    box-shadow: none;\n",
              "  }\n",
              "\n",
              "  .colab-df-spinner {\n",
              "    border: 2px solid var(--fill-color);\n",
              "    border-color: transparent;\n",
              "    border-bottom-color: var(--fill-color);\n",
              "    animation:\n",
              "      spin 1s steps(1) infinite;\n",
              "  }\n",
              "\n",
              "  @keyframes spin {\n",
              "    0% {\n",
              "      border-color: transparent;\n",
              "      border-bottom-color: var(--fill-color);\n",
              "      border-left-color: var(--fill-color);\n",
              "    }\n",
              "    20% {\n",
              "      border-color: transparent;\n",
              "      border-left-color: var(--fill-color);\n",
              "      border-top-color: var(--fill-color);\n",
              "    }\n",
              "    30% {\n",
              "      border-color: transparent;\n",
              "      border-left-color: var(--fill-color);\n",
              "      border-top-color: var(--fill-color);\n",
              "      border-right-color: var(--fill-color);\n",
              "    }\n",
              "    40% {\n",
              "      border-color: transparent;\n",
              "      border-right-color: var(--fill-color);\n",
              "      border-top-color: var(--fill-color);\n",
              "    }\n",
              "    60% {\n",
              "      border-color: transparent;\n",
              "      border-right-color: var(--fill-color);\n",
              "    }\n",
              "    80% {\n",
              "      border-color: transparent;\n",
              "      border-right-color: var(--fill-color);\n",
              "      border-bottom-color: var(--fill-color);\n",
              "    }\n",
              "    90% {\n",
              "      border-color: transparent;\n",
              "      border-bottom-color: var(--fill-color);\n",
              "    }\n",
              "  }\n",
              "</style>\n",
              "\n",
              "      <script>\n",
              "        async function quickchart(key) {\n",
              "          const quickchartButtonEl =\n",
              "            document.querySelector('#' + key + ' button');\n",
              "          quickchartButtonEl.disabled = true;  // To prevent multiple clicks.\n",
              "          quickchartButtonEl.classList.add('colab-df-spinner');\n",
              "          try {\n",
              "            const charts = await google.colab.kernel.invokeFunction(\n",
              "                'suggestCharts', [key], {});\n",
              "          } catch (error) {\n",
              "            console.error('Error during call to suggestCharts:', error);\n",
              "          }\n",
              "          quickchartButtonEl.classList.remove('colab-df-spinner');\n",
              "          quickchartButtonEl.classList.add('colab-df-quickchart-complete');\n",
              "        }\n",
              "        (() => {\n",
              "          let quickchartButtonEl =\n",
              "            document.querySelector('#df-3bcf3d92-6272-4453-9869-d39a214c6f34 button');\n",
              "          quickchartButtonEl.style.display =\n",
              "            google.colab.kernel.accessAllowed ? 'block' : 'none';\n",
              "        })();\n",
              "      </script>\n",
              "    </div>\n",
              "\n",
              "    </div>\n",
              "  </div>\n"
            ],
            "application/vnd.google.colaboratory.intrinsic+json": {
              "type": "dataframe",
              "summary": "{\n  \"name\": \"zonal_means[[\\\"patch_id\\\",\\\"severity\\\",\\\"mean_temp\\\"]]\",\n  \"rows\": 3,\n  \"fields\": [\n    {\n      \"column\": \"patch_id\",\n      \"properties\": {\n        \"dtype\": \"number\",\n        \"std\": 1,\n        \"min\": 101,\n        \"max\": 103,\n        \"num_unique_values\": 3,\n        \"samples\": [\n          101,\n          102,\n          103\n        ],\n        \"semantic_type\": \"\",\n        \"description\": \"\"\n      }\n    },\n    {\n      \"column\": \"severity\",\n      \"properties\": {\n        \"dtype\": \"number\",\n        \"std\": 0.3055050463303894,\n        \"min\": 0.2,\n        \"max\": 0.8,\n        \"num_unique_values\": 3,\n        \"samples\": [\n          0.2,\n          0.6,\n          0.8\n        ],\n        \"semantic_type\": \"\",\n        \"description\": \"\"\n      }\n    },\n    {\n      \"column\": \"mean_temp\",\n      \"properties\": {\n        \"dtype\": \"number\",\n        \"std\": 9.719935778209082,\n        \"min\": 87.94914241101814,\n        \"max\": 107.04835649775622,\n        \"num_unique_values\": 3,\n        \"samples\": [\n          87.94914241101814,\n          94.36084082773209,\n          107.04835649775622\n        ],\n        \"semantic_type\": \"\",\n        \"description\": \"\"\n      }\n    }\n  ]\n}"
            }
          },
          "metadata": {},
          "execution_count": 12
        }
      ],
      "source": [
        "\n",
        "from rasterio.features import rasterize\n",
        "\n",
        "def polygon_to_mask(polygon, transform, out_shape):\n",
        "    \"\"\"Rasterize a single polygon into a boolean mask in raster space.\"\"\"\n",
        "    return rasterize(\n",
        "        [(polygon, 1)],\n",
        "        out_shape=out_shape,\n",
        "        transform=transform,\n",
        "        fill=0,\n",
        "        all_touched=False,\n",
        "        dtype=\"uint8\"\n",
        "    ).astype(bool)\n",
        "\n",
        "means = []\n",
        "with rasterio.open(raster_path) as src:\n",
        "    band = src.read(1)\n",
        "    for _, row in gdf_patches.iterrows():\n",
        "        mask = polygon_to_mask(row.geometry, src.transform, (src.height, src.width))\n",
        "        vals = band[mask]\n",
        "        means.append({\"patch_id\": row.patch_id, \"mean_temp\": float(np.nanmean(vals))})\n",
        "\n",
        "zonal_means = gpd.GeoDataFrame(means).merge(gdf_patches[[\"patch_id\",\"severity\",\"geometry\"]], on=\"patch_id\")\n",
        "zonal_means[[\"patch_id\",\"severity\",\"mean_temp\"]]\n"
      ]
    },
    {
      "cell_type": "markdown",
      "source": [
        "Quick maps show how layers relate (fields, patches, hits, and intersection boundaries).\n",
        "\n",
        "Tabular outputs:\n",
        "\n",
        "  - Overlap areas per (patch, field)\n",
        "\n",
        "  - Counts of hits per field / per patch\n",
        "\n",
        "  - Acres per dissolved block\n",
        "\n",
        "  - Zonal mean temperature per patch"
      ],
      "metadata": {
        "id": "IAS5kHtCEUyY"
      },
      "id": "IAS5kHtCEUyY"
    },
    {
      "cell_type": "code",
      "execution_count": 13,
      "id": "1cb24ab2",
      "metadata": {
        "colab": {
          "base_uri": "https://localhost:8080/",
          "height": 384
        },
        "id": "1cb24ab2",
        "outputId": "04d9d26d-8ca8-480e-c874-b9a7c4edf902"
      },
      "outputs": [
        {
          "output_type": "display_data",
          "data": {
            "text/plain": [
              "<Figure size 640x480 with 1 Axes>"
            ],
            "image/png": "[encoded data removed]"
          },
          "metadata": {}
        }
      ],
      "source": [
        "\n",
        "ax = gdf_fields.plot(alpha=0.05)\n",
        "zonal_means.plot(ax=ax, column=\"mean_temp\", legend=True)\n",
        "plt.title(\"Mean Thermal (synthetic) by Patch\")\n",
        "plt.show()\n"
      ]
    },
    {
      "cell_type": "markdown",
      "id": "ad6a11fa",
      "metadata": {
        "id": "ad6a11fa"
      },
      "source": [
        "\n",
        "### What you did\n",
        "- **Clip / Intersection:** `gpd.clip` and `gpd.overlay(..., how=\"intersection\")`\n",
        "- **Spatial join:** `gpd.sjoin(points, polygons, predicate=\"within\")`\n",
        "- **Dissolve:** `gdf.dissolve(by=\"key\")` to summarize geometry + attributes\n",
        "- **Zonal stats:** Rasterize polygons to masks, calculate statistics on raster bands\n",
        "\n",
        "### Variations\n",
        "- Replace the synthetic raster (`thermal_demo.tif`) with a real TIFF.  \n",
        "- Reproject to meters if needed, e.g., `EPSG:26971` for Illinois East (meters).  \n",
        "- Add time and group-by cycles before spatial joins to make per‑cycle summaries.\n"
      ]
    },
    {
      "cell_type": "markdown",
      "source": [
        "**5) How to swap in your data**\n",
        "\n",
        "- Replace synthetic layers with file reads:\n",
        "\n",
        "  - `gpd.read_file(\"fields.geojson\").to_crs(\"EPSG:3435\")`\n",
        "\n",
        "  - `rasterio.open(\"thermal.tif\")` (use its CRS; reproject vectors to match)\n",
        "\n",
        "- Change CRS to meters:\n",
        "\n",
        "  - `gdf = gdf.to_crs(\"EPSG:26971\")`\n",
        "\n",
        "  - Update area conversions (no 43560 factor in meters; use /10_000 for hectares)\n",
        "\n",
        "- Change stats: compute median, std, percentiles on the masked raster values."
      ],
      "metadata": {
        "id": "heRbghhcDv0F"
      },
      "id": "heRbghhcDv0F"
    },
    {
      "cell_type": "code",
      "source": [
        "rasterio.open(\"thermal_demo.tif\")"
      ],
      "metadata": {
        "colab": {
          "base_uri": "https://localhost:8080/"
        },
        "id": "HMos7JaCDvc5",
        "outputId": "b37fee91-ad8b-4e98-db93-5805cab8eba2"
      },
      "id": "HMos7JaCDvc5",
      "execution_count": 17,
      "outputs": [
        {
          "output_type": "execute_result",
          "data": {
            "text/plain": [
              "<open DatasetReader name='thermal_demo.tif' mode='r'>"
            ]
          },
          "metadata": {},
          "execution_count": 17
        }
      ]
    },
    {
      "cell_type": "code",
      "source": [
        "import rasterio\n",
        "import matplotlib.pyplot as plt\n",
        "import numpy as np\n",
        "\n",
        "# Open\n",
        "with rasterio.open(\"thermal_demo.tif\") as src:\n",
        "    print(\"CRS:\", src.crs)\n",
        "    print(\"Bounds:\", src.bounds)\n",
        "    arr = src.read(1)\n",
        "\n",
        "# Quick look\n",
        "plt.imshow(arr)\n",
        "plt.title(\"thermal_demo.tif\")\n",
        "plt.colorbar(label=\"value\")\n",
        "plt.show()\n"
      ],
      "metadata": {
        "colab": {
          "base_uri": "https://localhost:8080/",
          "height": 441
        },
        "id": "OdJ0a2zeE95o",
        "outputId": "5f65b41f-9534-4137-c1ea-4be97ed7d56d"
      },
      "id": "OdJ0a2zeE95o",
      "execution_count": 18,
      "outputs": [
        {
          "output_type": "stream",
          "name": "stdout",
          "text": [
            "CRS: EPSG:3435\n",
            "Bounds: BoundingBox(left=0.0, bottom=0.0, right=6000.0, top=4000.0)\n"
          ]
        },
        {
          "output_type": "display_data",
          "data": {
            "text/plain": [
              "<Figure size 640x480 with 2 Axes>"
            ],
            "image/png": "[encoded data removed]"
          },
          "metadata": {}
        }
      ]
    },
    {
      "cell_type": "markdown",
      "source": [
        "You can open this `.tif` file in QGIS (GUI)\n",
        "\n",
        "- Open QGIS → drag thermal_demo.tif into the Layers panel (or Layer → Add Layer → Add Raster Layer).\n",
        "\n",
        "- Check the layer’s CRS (should be EPSG:3435 in this demo).\n",
        "\n",
        "- Style → “Singleband gray” or “Singleband pseudocolor” for nicer display."
      ],
      "metadata": {
        "id": "euTz5hAJFJs7"
      },
      "id": "euTz5hAJFJs7"
    },
    {
      "cell_type": "code",
      "source": [
        "!apt-get install gdal-bin libgdal-dev\n",
        "!pip install gdal"
      ],
      "metadata": {
        "colab": {
          "base_uri": "https://localhost:8080/"
        },
        "id": "IBINw-HBFm-0",
        "outputId": "d4869749-4c9e-48ad-f3a5-f35600d9217e"
      },
      "id": "IBINw-HBFm-0",
      "execution_count": 23,
      "outputs": [
        {
          "output_type": "stream",
          "name": "stdout",
          "text": [
            "Reading package lists... Done\n",
            "Building dependency tree... Done\n",
            "Reading state information... Done\n",
            "gdal-bin is already the newest version (3.8.4+dfsg-1~jammy0).\n",
            "libgdal-dev is already the newest version (3.8.4+dfsg-1~jammy0).\n",
            "0 upgraded, 0 newly installed, 0 to remove and 35 not upgraded.\n",
            "Requirement already satisfied: gdal in /usr/local/lib/python3.12/dist-packages (3.8.4)\n"
          ]
        }
      ]
    },
    {
      "cell_type": "code",
      "source": [
        "!gdalinfo --version"
      ],
      "metadata": {
        "colab": {
          "base_uri": "https://localhost:8080/"
        },
        "id": "OIyYk1hQGI9H",
        "outputId": "46a58906-257c-4d4b-d348-37ca16c777dd"
      },
      "id": "OIyYk1hQGI9H",
      "execution_count": 24,
      "outputs": [
        {
          "output_type": "stream",
          "name": "stdout",
          "text": [
            "GDAL 3.8.4, released 2024/02/08\n"
          ]
        }
      ]
    },
    {
      "cell_type": "code",
      "source": [
        "# Inspect metadata\n",
        "!gdalinfo thermal_demo.tif\n",
        "\n",
        "\n"
      ],
      "metadata": {
        "colab": {
          "base_uri": "https://localhost:8080/"
        },
        "id": "17K52ViUFX_M",
        "outputId": "9b3c4586-e57a-472f-e6f2-469b5d1452cc"
      },
      "id": "17K52ViUFX_M",
      "execution_count": 25,
      "outputs": [
        {
          "output_type": "stream",
          "name": "stdout",
          "text": [
            "Driver: GTiff/GeoTIFF\n",
            "Files: thermal_demo.tif\n",
            "Size is 120, 80\n",
            "Coordinate System is:\n",
            "PROJCRS[\"NAD83 / Illinois East (ftUS)\",\n",
            "    BASEGEOGCRS[\"NAD83\",\n",
            "        DATUM[\"North American Datum 1983\",\n",
            "            ELLIPSOID[\"GRS 1980\",6378137,298.257222101,\n",
            "                LENGTHUNIT[\"metre\",1]]],\n",
            "        PRIMEM[\"Greenwich\",0,\n",
            "            ANGLEUNIT[\"degree\",0.0174532925199433]],\n",
            "        ID[\"EPSG\",4269]],\n",
            "    CONVERSION[\"SPCS83 Illinois East zone (US survey foot)\",\n",
            "        METHOD[\"Transverse Mercator\",\n",
            "            ID[\"EPSG\",9807]],\n",
            "        PARAMETER[\"Latitude of natural origin\",36.6666666666667,\n",
            "            ANGLEUNIT[\"degree\",0.0174532925199433],\n",
            "            ID[\"EPSG\",8801]],\n",
            "        PARAMETER[\"Longitude of natural origin\",-88.3333333333333,\n",
            "            ANGLEUNIT[\"degree\",0.0174532925199433],\n",
            "            ID[\"EPSG\",8802]],\n",
            "        PARAMETER[\"Scale factor at natural origin\",0.999975,\n",
            "            SCALEUNIT[\"unity\",1],\n",
            "            ID[\"EPSG\",8805]],\n",
            "        PARAMETER[\"False easting\",984250,\n",
            "            LENGTHUNIT[\"US survey foot\",0.304800609601219],\n",
            "            ID[\"EPSG\",8806]],\n",
            "        PARAMETER[\"False northing\",0,\n",
            "            LENGTHUNIT[\"US survey foot\",0.304800609601219],\n",
            "            ID[\"EPSG\",8807]]],\n",
            "    CS[Cartesian,2],\n",
            "        AXIS[\"easting (X)\",east,\n",
            "            ORDER[1],\n",
            "            LENGTHUNIT[\"US survey foot\",0.304800609601219]],\n",
            "        AXIS[\"northing (Y)\",north,\n",
            "            ORDER[2],\n",
            "            LENGTHUNIT[\"US survey foot\",0.304800609601219]],\n",
            "    USAGE[\n",
            "        SCOPE[\"Engineering survey, topographic mapping.\"],\n",
            "        AREA[\"United States (USA) - Illinois - counties of Boone; Champaign; Clark; Clay; Coles; Cook; Crawford; Cumberland; De Kalb; De Witt; Douglas; Du Page; Edgar; Edwards; Effingham; Fayette; Ford; Franklin; Gallatin; Grundy; Hamilton; Hardin; Iroquois; Jasper; Jefferson; Johnson; Kane; Kankakee; Kendall; La Salle; Lake; Lawrence; Livingston; Macon; Marion; Massac; McHenry; McLean; Moultrie; Piatt; Pope; Richland; Saline; Shelby; Vermilion; Wabash; Wayne; White; Will; Williamson.\"],\n",
            "        BBOX[37.06,-89.27,42.5,-87.02]],\n",
            "    ID[\"EPSG\",3435]]\n",
            "Data axis to CRS axis mapping: 1,2\n",
            "Origin = (0.000000000000000,4000.000000000000000)\n",
            "Pixel Size = (50.000000000000000,-50.000000000000000)\n",
            "Metadata:\n",
            "  AREA_OR_POINT=Area\n",
            "Image Structure Metadata:\n",
            "  INTERLEAVE=BAND\n",
            "Corner Coordinates:\n",
            "Upper Left  (       0.000,    4000.000) ( 91d41'13.35\"W, 36d37'49.49\"N)\n",
            "Lower Left  (   0.0000000,   0.0000000) ( 91d41'11.64\"W, 36d37'10.01\"N)\n",
            "Upper Right (    6000.000,    4000.000) ( 91d39'59.86\"W, 36d37'51.56\"N)\n",
            "Lower Right (    6000.000,       0.000) ( 91d39'58.16\"W, 36d37'12.07\"N)\n",
            "Center      (    3000.000,    2000.000) ( 91d40'35.75\"W, 36d37'30.78\"N)\n",
            "Band 1 Block=120x8 Type=Float64, ColorInterp=Gray\n"
          ]
        }
      ]
    },
    {
      "cell_type": "code",
      "source": [
        "# Make a quick PNG preview\n",
        "!gdal_translate -of PNG thermal_demo.tif thermal_demo.png"
      ],
      "metadata": {
        "colab": {
          "base_uri": "https://localhost:8080/"
        },
        "id": "XU-Whz1-Fbpk",
        "outputId": "89b05180-3060-42ac-8df0-3a23a89d0170"
      },
      "id": "XU-Whz1-Fbpk",
      "execution_count": 26,
      "outputs": [
        {
          "output_type": "stream",
          "name": "stdout",
          "text": [
            "Input file size is 120, 80\n",
            "Warning 6: PNG driver doesn't support data type Float64. Only eight bit (Byte) and sixteen bit (UInt16) bands supported. Defaulting to Byte\n",
            "\n",
            "0...10...20...30...40...50...60...70...80...90...100 - done.\n"
          ]
        }
      ]
    }
  ],
  "metadata": {
    "colab": {
      "provenance": []
    },
    "language_info": {
      "name": "python"
    },
    "kernelspec": {
      "name": "python3",
      "display_name": "Python 3"
    }
  },
  "nbformat": 4,
  "nbformat_minor": 5
}