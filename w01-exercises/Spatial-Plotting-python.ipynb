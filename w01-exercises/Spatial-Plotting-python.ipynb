{
  "cells": [
    {
      "cell_type": "markdown",
      "metadata": {},
      "source": "# Spatial Plotting \u2014 Python Conversion\n\nReproduces R example with rasterio, geopandas, matplotlib.\n\n_Generated: 2025-08-27_"
    },
    {
      "cell_type": "code",
      "metadata": {},
      "execution_count": null,
      "outputs": [],
      "source": "import rasterio, geopandas as gpd, pandas as pd, matplotlib.pyplot as plt\nfrom shapely.geometry import Point"
    },
    {
      "cell_type": "markdown",
      "metadata": {},
      "source": "## Load raster"
    },
    {
      "cell_type": "code",
      "metadata": {},
      "execution_count": null,
      "outputs": [],
      "source": "with rasterio.open('caelev.tif') as src:\n    raster=src.read(1); bounds=src.bounds; crs=src.crs"
    },
    {
      "cell_type": "markdown",
      "metadata": {},
      "source": "## Load points CSV and subset"
    },
    {
      "cell_type": "code",
      "metadata": {},
      "execution_count": null,
      "outputs": [],
      "source": "df=pd.read_csv('Set2data.csv')\ndf_sub=df[df['ID']%10==0]\ngdf=gpd.GeoDataFrame(df_sub, geometry=gpd.points_from_xy(df_sub.Longitude, df_sub.Latitude), crs='EPSG:4326')"
    },
    {
      "cell_type": "markdown",
      "metadata": {},
      "source": "## Plot"
    },
    {
      "cell_type": "code",
      "metadata": {},
      "execution_count": null,
      "outputs": [],
      "source": "fig,ax=plt.subplots()\nleft,bottom,right,top=bounds\nax.imshow(raster,extent=(left,right,bottom,top),origin='upper',cmap='gray')\ngdf.plot(ax=ax,markersize=10,color='black')\nax.set_title('Wieslander Survey Locations'); ax.set_xlabel('Longitude'); ax.set_ylabel('Latitude')\nplt.show()"
    }
  ],
  "metadata": {
    "kernelspec": {
      "display_name": "Python 3",
      "language": "python",
      "name": "python3"
    },
    "language_info": {
      "name": "python",
      "version": "3.11.8"
    }
  },
  "nbformat": 4,
  "nbformat_minor": 5
}