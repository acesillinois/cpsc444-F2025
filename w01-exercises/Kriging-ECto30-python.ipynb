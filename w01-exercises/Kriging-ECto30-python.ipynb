{
 "cells": [
  {
   "cell_type": "markdown",
   "metadata": {},
   "source": [
    "# Kriging of Soil Apparent Electrical Conductivity (Python)\n",
    "\n",
    "1. Loads `Set4.2EC.csv` with coordinates already projected (Easting/Northing).\n",
    "2. Subsets points by an index rule (ID % px_size == 0).\n",
    "3. Estimates an empirical variogram and fits a **spherical** model.\n",
    "4. Performs **Ordinary Kriging** over a regular grid.\n",
    "5. Plots the predicted map in grayscale with axes and title.\n",
    "\n",
    "**Dependencies:** NumPy, Pandas, Matplotlib, SciPy (for fitting), PyKrige (for kriging)."
   ],
   "id": "104e10eb46e0dee9"
  },
  {
   "cell_type": "code",
   "metadata": {},
   "execution_count": null,
   "outputs": [],
   "source": "# If needed, install packages (uncomment and run):\n# %pip install numpy pandas matplotlib scipy pykrige\n",
   "id": "3962b46ebcb5a2d7"
  },
  {
   "cell_type": "code",
   "metadata": {},
   "execution_count": null,
   "outputs": [],
   "source": "import os\nimport numpy as np\nimport pandas as pd\nimport matplotlib.pyplot as plt\nfrom scipy.spatial import distance\nfrom scipy.optimize import curve_fit\n\ntry:\n    from pykrige.ok import OrdinaryKriging\n    PYKRIGE_AVAILABLE = True\nexcept Exception as _e:\n    PYKRIGE_AVAILABLE = False\n    print('PyKrige not available. You can install it with: %pip install pykrige')\n",
   "id": "d97f3323767f082e"
  },
  {
   "cell_type": "markdown",
   "metadata": {},
   "source": "## Load data and subset\nR equivalent:\n```r\ndata.Set4.2EC <- read.csv('Set4.2EC.csv', header=TRUE)\ncoordinates(data.Set4.2EC) <- ~ Easting + Northing\npx_size <- 10\ndata.Set4.2EC$ID <- 1:nrow(data.Set4.2EC)\ndata.Set4.2EC <- data.Set4.2EC[-which(data.Set4.2EC$ID %% px_size != 0),]\n```",
   "id": "9f8774cd7ba823a7"
  },
  {
   "cell_type": "code",
   "metadata": {},
   "execution_count": null,
   "outputs": [],
   "source": "px_size = 10  # same as R example\ncsv_path = 'Set4.2EC.csv'\nif not os.path.exists(csv_path):\n    raise FileNotFoundError('Missing Set4.2EC.csv. Place it in the working directory.')\n\ndf = pd.read_csv(csv_path)\nrequired = {'Easting','Northing','ECto30'}\nmissing = required - set(df.columns)\nif missing:\n    raise ValueError(f'Missing required columns: {missing}')\n\n# Create ID like in R and subset every px_size-th row\ndf['ID'] = np.arange(1, len(df)+1)\ndf_sub = df[df['ID'] % px_size == 0].copy()\n\nX = df_sub['Easting'].to_numpy()\nY = df_sub['Northing'].to_numpy()\nZ = df_sub['ECto30'].to_numpy()\nlen(X), df_sub.head()",
   "id": "7da34670d343e6e4"
  },
  {
   "cell_type": "markdown",
   "metadata": {},
   "source": "## Prediction grid (bounding box + step)\nR equivalent:\n```r\nbb <- c(N=4267868, S=4267513, E=592867, W=592082)\npred_grid <- expand.grid(Easting = seq(bb['W'], bb['E'], by=px_size),\n                         Northing = seq(bb['S'], bb['N'], by=px_size))\n```",
   "id": "8ec8a58d35b46c19"
  },
  {
   "cell_type": "code",
   "metadata": {},
   "execution_count": null,
   "outputs": [],
   "source": "bb = {'N': 4267868, 'S': 4267513, 'E': 592867, 'W': 592082}\ngrid_x = np.arange(bb['W'], bb['E'] + px_size, px_size)\ngrid_y = np.arange(bb['S'], bb['N'] + px_size, px_size)\nlen(grid_x), len(grid_y)",
   "id": "4b9c74fbffa6a2b4"
  },
  {
   "cell_type": "markdown",
   "metadata": {},
   "source": "## Empirical variogram and spherical model fit\nWe compute an empirical semi-variogram and fit a spherical model:\n\n$\\gamma(h) = nugget + sill \\cdot S(h; a)$, where\n$S(h; a) = 1.5 (h/a) - 0.5 (h/a)^3$ for $0 < h < a$, and $1$ for $h \\ge a$.\n($a$ is the range; beyond it the variogram reaches the sill + nugget.)",
   "id": "3e49ad459a8e81aa"
  },
  {
   "cell_type": "code",
   "metadata": {},
   "execution_count": null,
   "outputs": [],
   "source": "def empirical_variogram(x, y, z, n_bins=20, max_dist=None):\n    xy = np.column_stack([x, y])\n    D = distance.pdist(xy)\n    if max_dist is None:\n        max_dist = np.percentile(D, 90)  # trim long tails\n    idx = distance.squareform(np.arange(len(xy)))  # not used\n    # Semivariance for pairs\n    Z = z\n    # Build all pairwise semivariances\n    # Efficient approach: compute condensed distance matrix and pairwise semivariances\n    # But scipy doesn't directly give condensed semivariances, so we compute indices\n    n = len(Z)\n    vals = []\n    dists = []\n    for i in range(n-1):\n        dz = (Z[i+1:] - Z[i])\n        d = distance.cdist(xy[i:i+1], xy[i+1:]).ravel()\n        m = d <= max_dist\n        if np.any(m):\n            dists.append(d[m])\n            vals.append(0.5 * dz[m]**2)\n    if not dists:\n        raise RuntimeError('Not enough pairs within max_dist for variogram.')\n    dists = np.concatenate(dists)\n    vals = np.concatenate(vals)\n\n    bins = np.linspace(0, max_dist, n_bins+1)\n    bin_centers = 0.5*(bins[:-1] + bins[1:])\n    gamma = np.full(n_bins, np.nan)\n    for i in range(n_bins):\n        m = (dists >= bins[i]) & (dists < bins[i+1])\n        if m.any():\n            gamma[i] = np.mean(vals[m])\n    m = np.isfinite(gamma)\n    return bin_centers[m], gamma[m]\n\ndef spherical_model(h, sill, a, nugget):\n    h = np.asarray(h)\n    g = np.empty_like(h, dtype=float)\n    # piecewise\n    ha = h / a\n    inside = h < a\n    g[inside] = nugget + sill * (1.5*ha[inside] - 0.5*ha[inside]**3)\n    g[~inside] = nugget + sill\n    return g\n\n# Estimate empirical variogram\nh_emp, gamma_emp = empirical_variogram(X, Y, Z, n_bins=18)\n\n# Fit spherical model with bounds\np0 = [np.nanmax(gamma_emp)*0.8, (np.max(h_emp)/2) or 1.0, np.nanmin(gamma_emp)*0.1]\nbounds = ([1e-6, 1.0, 0.0], [np.inf, np.max(h_emp)*2, np.nanmax(gamma_emp)])\npars, cov = curve_fit(spherical_model, h_emp, gamma_emp, p0=p0, bounds=bounds, maxfev=20000)\nsill_hat, range_hat, nugget_hat = pars\nprint('Fitted variogram params -> sill:', sill_hat, ' range:', range_hat, ' nugget:', nugget_hat)\n\n# Plot empirical vs fitted variogram\nhh = np.linspace(0, h_emp.max(), 200)\nplt.figure()\nplt.plot(h_emp, gamma_emp, 'o', label='Empirical')\nplt.plot(hh, spherical_model(hh, *pars), '-', label='Spherical fit')\nplt.xlabel('Lag distance h')\nplt.ylabel('Semivariance γ(h)')\nplt.title('Variogram: empirical vs spherical fit')\nplt.legend()\nplt.show()\n",
   "id": "e9ab7131f4bcea46"
  },
  {
   "cell_type": "markdown",
   "metadata": {},
   "source": "## Ordinary Kriging\nWe use **PyKrige** with the fitted spherical parameters. If PyKrige is not available, the cell will prompt an install command.",
   "id": "de92e360b29546c8"
  },
  {
   "cell_type": "code",
   "metadata": {},
   "execution_count": null,
   "outputs": [],
   "source": "if not PYKRIGE_AVAILABLE:\n    raise ModuleNotFoundError('PyKrige not installed. Install with: %pip install pykrige')\n\n# PyKrige expects parameters [sill, range, nugget]\nOK = OrdinaryKriging(\n    X, Y, Z,\n    variogram_model='spherical',\n    variogram_parameters=[float(sill_hat), float(range_hat), float(nugget_hat)],\n    enable_plotting=False,\n    coordinates_type='euclidean'\n)\n\n# Execute on grid (like R's prediction grid); grid expects vectors of x and y\nz_krig, ss_krig = OK.execute('grid', grid_x, grid_y)\n\n# z_krig is shape (len(grid_y), len(grid_x)); plot in grayscale with axes and title\nextent = (grid_x.min(), grid_x.max(), grid_y.min(), grid_y.max())\nplt.figure(figsize=(7,7))\nplt.imshow(z_krig, origin='lower', extent=extent, cmap='gray')\nplt.colorbar(label='EC30.pred (mS/m)')\nplt.xlabel('Easting')\nplt.ylabel('Northing')\nplt.title('Soil Apparent Electrical Conductivity (mS/m) — Ordinary Kriging')\nplt.tight_layout()\nplt.show()\n",
   "id": "f68874cdeaf780ca"
  },
  {
   "metadata": {},
   "cell_type": "code",
   "outputs": [],
   "execution_count": null,
   "source": "",
   "id": "658e7079a716c67a"
  }
 ],
 "metadata": {
  "kernelspec": {
   "display_name": "Python 3",
   "language": "python",
   "name": "python3"
  },
  "language_info": {
   "name": "python",
   "version": "3.11.8"
  }
 },
 "nbformat": 4,
 "nbformat_minor": 5
}
